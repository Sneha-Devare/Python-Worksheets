{
 "cells": [
  {
   "cell_type": "raw",
   "id": "239daa7f-8e90-46af-b727-27f9fb1d4f2b",
   "metadata": {},
   "source": [
    "1. You have a list of prices in dollars. Convert them to INR using the conversion rate 1 USD = 83\n",
    "INR. Use a single line of code to do this transformation.\n",
    "Input: [10, 15.5, 20]\n",
    "Expected Output: [830, 1286.5, 1660]"
   ]
  },
  {
   "cell_type": "code",
   "execution_count": 10,
   "id": "9e00fc1a-6885-4d8e-97e2-2738604bb65d",
   "metadata": {},
   "outputs": [
    {
     "name": "stdout",
     "output_type": "stream",
     "text": [
      "[830, 1286.5, 1660]\n"
     ]
    }
   ],
   "source": [
    "list1 = [10, 15.5, 20]\n",
    "print([x * 83 for x in list1 ])"
   ]
  },
  {
   "cell_type": "raw",
   "id": "3c0b1cd4-fb53-4285-b1e3-60ea145167a6",
   "metadata": {},
   "source": [
    "2. Given a list of employee ages, remove all ages that are below 18 or above 60.\n",
    "Input: [16, 22, 45, 61, 35, 12, 59]\n",
    "Expected Output: [22, 45, 35, 59]"
   ]
  },
  {
   "cell_type": "code",
   "execution_count": 14,
   "id": "f253fd01-3a3b-4557-aabb-ff4ae19b96bd",
   "metadata": {},
   "outputs": [
    {
     "name": "stdout",
     "output_type": "stream",
     "text": [
      "[22, 45, 35, 59]\n"
     ]
    }
   ],
   "source": [
    "list2 = [16, 22, 45, 61, 35, 12, 59]\n",
    "for age in list2:\n",
    "    if age < 18 or age > 60:\n",
    "        list2.remove(age)\n",
    "print(list2)"
   ]
  },
  {
   "cell_type": "raw",
   "id": "285dc242-34b3-4dd8-8cf0-feee4a369114",
   "metadata": {},
   "source": [
    "3. Take a list of strings and keep only those which are palindromes.\n",
    "Input: ['radar', 'apple', 'level', 'world', 'madam']\n",
    "Expected Output: ['radar', 'level', 'madam']"
   ]
  },
  {
   "cell_type": "code",
   "execution_count": 18,
   "id": "e77b125d-220b-4432-b7d8-6cf9b89deab8",
   "metadata": {},
   "outputs": [
    {
     "name": "stdout",
     "output_type": "stream",
     "text": [
      "['radar', 'level', 'madam']\n"
     ]
    }
   ],
   "source": [
    "list1 = ['radar','apple','level','world','madam']\n",
    "print([x for x in list1 if x == x[::-1]])"
   ]
  },
  {
   "cell_type": "raw",
   "id": "cadecf0c-b223-41e9-b45c-d672002db44b",
   "metadata": {},
   "source": [
    "4. You have a list of numbers. Find the sum of only those numbers which are divisible by both 3 and 5.\n",
    "Input: [10, 15, 30, 45, 50]\n",
    "Expected Output: 90"
   ]
  },
  {
   "cell_type": "code",
   "execution_count": 26,
   "id": "8a15ef67-46f2-4ef7-89db-220abaa55aa6",
   "metadata": {},
   "outputs": [
    {
     "name": "stdout",
     "output_type": "stream",
     "text": [
      "90\n"
     ]
    }
   ],
   "source": [
    "list1 = [10, 15, 30, 45, 50]\n",
    "numbers_which_are_divisible = [num for num in list1 if (num % 3 == 0) and (num % 5 == 0)]\n",
    "sum_of_numbers = sum(numbers_which_are_divisible)\n",
    "print(sum_of_numbers)"
   ]
  },
  {
   "cell_type": "raw",
   "id": "7423cc6d-22bd-433a-b1d5-35707c8422bf",
   "metadata": {},
   "source": [
    "5. From a list of tuples containing names and scores, extract just the names.\n",
    "Input: [('Alice', 91), ('Bob', 82), ('Clara', 77)]\n",
    "Expected Output: ['Alice', 'Bob', 'Clara']"
   ]
  },
  {
   "cell_type": "code",
   "execution_count": 30,
   "id": "5be5c6b8-82ee-4ea8-bfef-12f8387e3b1b",
   "metadata": {},
   "outputs": [
    {
     "name": "stdout",
     "output_type": "stream",
     "text": [
      "['Alice', 'Bob', 'Clara']\n"
     ]
    }
   ],
   "source": [
    "list1 = [('Alice', 91), ('Bob', 82), ('Clara', 77)]\n",
    "print([x[0] for x in list1 ])"
   ]
  },
  {
   "cell_type": "raw",
   "id": "53fc0902-1cc8-4478-be42-67bddf6cab5b",
   "metadata": {},
   "source": [
    "6. Create a list of numbers from 1 to 10. Construct another list that contains the cube of only the\n",
    "even numbers from this list.\n",
    "Expected Output: [8, 64, 216, 512, 1000]"
   ]
  },
  {
   "cell_type": "code",
   "execution_count": 32,
   "id": "6c351eab-df54-4498-ad10-ba5a20f45456",
   "metadata": {},
   "outputs": [
    {
     "name": "stdout",
     "output_type": "stream",
     "text": [
      "[8, 64, 216, 512, 1000]\n"
     ]
    }
   ],
   "source": [
    "list1 = [1, 2, 3, 4, 5, 6, 7, 8, 9, 10]\n",
    "print([num*num*num for num in list1 if num % 2 == 0])"
   ]
  },
  {
   "cell_type": "raw",
   "id": "7998a73a-fc7e-4e17-9911-f733407a1fa0",
   "metadata": {},
   "source": [
    "7. Given a sentence, split it into words and create a new list that contains the length of each word.\n",
    "Input: \"Python is powerful and fun\"\n",
    "Expected Output: [6, 2, 8, 3, 3]"
   ]
  },
  {
   "cell_type": "code",
   "execution_count": 36,
   "id": "89e7ec85-ae24-4426-b7ea-c5e58fc98f4f",
   "metadata": {},
   "outputs": [
    {
     "name": "stdout",
     "output_type": "stream",
     "text": [
      "[6, 2, 8, 3, 3]\n"
     ]
    }
   ],
   "source": [
    "sentence = \"Python is powerful and fun\"\n",
    "words = sentence.split()\n",
    "print([len(word) for word in words ])"
   ]
  },
  {
   "cell_type": "raw",
   "id": "0d7dc74d-6513-46ad-a567-aae8b00fd348",
   "metadata": {},
   "source": [
    "8. You are given a list of transactions. Each transaction is a dictionary with the key \"amount\".\n",
    "Calculate the total amount spent.\n",
    "Input: [{'amount': 120}, {'amount': 180}, {'amount': 50}]\n",
    "Expected Output: 350"
   ]
  },
  {
   "cell_type": "code",
   "execution_count": 46,
   "id": "9e8f42e1-313f-42d5-be98-331cdca6c78b",
   "metadata": {},
   "outputs": [
    {
     "name": "stdout",
     "output_type": "stream",
     "text": [
      "350\n"
     ]
    }
   ],
   "source": [
    "amounts = [{'amount': 120}, {'amount': 180}, {'amount': 50}]\n",
    "print(sum([x['amount'] for x in amounts]))"
   ]
  },
  {
   "cell_type": "raw",
   "id": "65b798d7-aeb0-4eb1-a5af-758e3784dbdf",
   "metadata": {},
   "source": [
    "9. You have a list of items. Print each item with its position number starting from 501.\n",
    "Input: ['pen', 'book', 'ruler']\n",
    "Expected Output: 501 pen, 502 book, 503 ruler"
   ]
  },
  {
   "cell_type": "code",
   "execution_count": 58,
   "id": "e73677df-88d4-469e-b9c0-bec4b166ccf8",
   "metadata": {},
   "outputs": [
    {
     "name": "stdout",
     "output_type": "stream",
     "text": [
      "501 pen , 502 book , 503 ruler , "
     ]
    }
   ],
   "source": [
    "list1 = ['pen', 'book', 'ruler']\n",
    "for index, x in enumerate(list1, start = 501):\n",
    "    print(index, x, end = \" , \")"
   ]
  },
  {
   "cell_type": "raw",
   "id": "48ac13a8-dffc-421f-b4b7-8851aa118a74",
   "metadata": {},
   "source": [
    "10. From a list of temperatures in Celsius, create a new list with temperatures labeled as 'Cold' if\n",
    "below 15, 'Warm' if between 15 and 25, and 'Hot' otherwise.\n",
    "Input: [10, 20, 30]\n",
    "Expected Output: ['Cold', 'Warm', 'Hot']"
   ]
  },
  {
   "cell_type": "code",
   "execution_count": 60,
   "id": "10019986-ab38-471e-97cd-b48a07d0a209",
   "metadata": {},
   "outputs": [
    {
     "name": "stdout",
     "output_type": "stream",
     "text": [
      "['cold', 'warm', 'hot']\n"
     ]
    }
   ],
   "source": [
    "temp = [10, 20, 30]\n",
    "print(['cold' if x < 15 else 'warm' if 15 <= x <= 25 else 'hot' for x in temp])"
   ]
  }
 ],
 "metadata": {
  "kernelspec": {
   "display_name": "Python [conda env:base] *",
   "language": "python",
   "name": "conda-base-py"
  },
  "language_info": {
   "codemirror_mode": {
    "name": "ipython",
    "version": 3
   },
   "file_extension": ".py",
   "mimetype": "text/x-python",
   "name": "python",
   "nbconvert_exporter": "python",
   "pygments_lexer": "ipython3",
   "version": "3.12.7"
  }
 },
 "nbformat": 4,
 "nbformat_minor": 5
}
